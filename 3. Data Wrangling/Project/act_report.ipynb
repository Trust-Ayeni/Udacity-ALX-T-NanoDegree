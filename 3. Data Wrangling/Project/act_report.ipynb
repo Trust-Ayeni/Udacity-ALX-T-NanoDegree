{
 "cells": [
  {
   "cell_type": "markdown",
   "metadata": {},
   "source": [
    "# (act_report) on Wrangle an Analyze Data Project"
   ]
  },
  {
   "cell_type": "markdown",
   "metadata": {},
   "source": [
    "- Create a 250-word-minimum written report called act_report.pdf or act_report.html that communicates all the insights and displays the visualization(s) produced from your wrangled data. This is to be framed as an external document, like a blog post or magazine article, for example."
   ]
  },
  {
   "cell_type": "markdown",
   "metadata": {},
   "source": [
    "#### Created by Ayeni Trust Olamilekan"
   ]
  },
  {
   "cell_type": "markdown",
   "metadata": {},
   "source": [
    "### Introduction"
   ]
  },
  {
   "cell_type": "markdown",
   "metadata": {},
   "source": [
    "I received the following observations after going through each step as indicated in the `wrangle_report` file one by one and completing the project:"
   ]
  },
  {
   "cell_type": "markdown",
   "metadata": {},
   "source": [
    "### Results"
   ]
  },
  {
   "cell_type": "markdown",
   "metadata": {},
   "source": [
    "1. The *`favorite_count`* column is the next insight I gained from the aforementioned datasets. The disparity between the most popular (favorite) tweet and the least popular (favorite) tweet among @dog rates admirers is enormous. Fans have liked (favored) the most liked tweet 132810 times, while the least liked tweet has no (0) likes. The most intriguing detail is that this tweet was about the dog breeds *`pupper`* and *`doggo`*. This suggests that fans are far more interested in these two types of dogs.\n",
    "![](S.jpg)\n",
    "\n",
    "2. Also, the types or phases of dogs are one of the last insights I gained from the data sets above. After analyzing and displaying all of the data in the *stages of dogs* column, I discovered that the most common dog kinds are, predictably, *`pupper`* and *`doggo`*. The related visulization is shown above. The overall conclusion I came to as a result of this endeavor is that people adore dogs. This is also evidenced by the fact that @WeRateDogs has a large following on Twitter, with about 10 million followers.\n",
    "\n",
    "3. Finally, about the dog breeds. We can observe that `Golden Retrievers` are mostly loved by majority in the barchart above specifying the top 5 loved dog breeds.\n",
    "![](R.jfif)"
   ]
  },
  {
   "cell_type": "markdown",
   "metadata": {},
   "source": [
    "### Visualizations"
   ]
  },
  {
   "cell_type": "markdown",
   "metadata": {},
   "source": [
    "Finally, in order to find the most frequent stage of dog, I have used the following visualization using Python's `matplotlib` library:"
   ]
  },
  {
   "cell_type": "markdown",
   "metadata": {},
   "source": [
    "![image](output.png)"
   ]
  },
  {
   "cell_type": "code",
   "execution_count": 1,
   "metadata": {},
   "outputs": [
    {
     "data": {
      "text/plain": [
       "1"
      ]
     },
     "execution_count": 1,
     "metadata": {},
     "output_type": "execute_result"
    }
   ],
   "source": [
    "from subprocess import call\n",
    "call(['python', '-m', 'nbconvert', 'act_report.ipynb'])"
   ]
  }
 ],
 "metadata": {
  "interpreter": {
   "hash": "17c06682289c648123aaf5266b09decc0b5cbfda0ba4811c7d49ddbab2030d1b"
  },
  "kernelspec": {
   "display_name": "Python 3.8.8 ('base')",
   "language": "python",
   "name": "python3"
  },
  "language_info": {
   "codemirror_mode": {
    "name": "ipython",
    "version": 3
   },
   "file_extension": ".py",
   "mimetype": "text/x-python",
   "name": "python",
   "nbconvert_exporter": "python",
   "pygments_lexer": "ipython3",
   "version": "3.8.8"
  }
 },
 "nbformat": 4,
 "nbformat_minor": 2
}
